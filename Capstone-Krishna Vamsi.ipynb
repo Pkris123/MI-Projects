{
 "cells": [
  {
   "cell_type": "markdown",
   "metadata": {},
   "source": [
    "### Import data from Excel"
   ]
  },
  {
   "cell_type": "code",
   "execution_count": 117,
   "metadata": {},
   "outputs": [],
   "source": [
    "import time\n",
    "start_time = time.time()"
   ]
  },
  {
   "cell_type": "code",
   "execution_count": 118,
   "metadata": {},
   "outputs": [
    {
     "name": "stdout",
     "output_type": "stream",
     "text": [
      "<class 'pandas.core.frame.DataFrame'>\n",
      "RangeIndex: 157126 entries, 0 to 157125\n",
      "Data columns (total 11 columns):\n",
      " #   Column        Non-Null Count   Dtype \n",
      "---  ------        --------------   ----- \n",
      " 0   CircleName    157126 non-null  object\n",
      " 1   RegionName    157073 non-null  object\n",
      " 2   DivisionName  157124 non-null  object\n",
      " 3   OfficeName    157126 non-null  object\n",
      " 4   Pincode       157126 non-null  int64 \n",
      " 5   OfficeType    157126 non-null  object\n",
      " 6   Delivery      157126 non-null  object\n",
      " 7   District      157126 non-null  object\n",
      " 8   StateName     157126 non-null  object\n",
      " 9   Latitude      148288 non-null  object\n",
      " 10  Longitude     148283 non-null  object\n",
      "dtypes: int64(1), object(10)\n",
      "memory usage: 13.2+ MB\n"
     ]
    }
   ],
   "source": [
    "\n",
    "import pandas as pd\n",
    "\n",
    "\n",
    "# Importing Pincodes\n",
    "df = pd.read_excel('pincode.xlsx')\n",
    "\n",
    "df.info()"
   ]
  },
  {
   "cell_type": "markdown",
   "metadata": {},
   "source": [
    "### Import Required Libraries"
   ]
  },
  {
   "cell_type": "code",
   "execution_count": 119,
   "metadata": {},
   "outputs": [],
   "source": [
    "import numpy as np\n",
    "import re\n",
    "from sklearn.cluster import KMeans\n",
    "import matplotlib.pyplot as plt\n",
    "from sklearn.preprocessing import StandardScaler\n",
    "from scipy.spatial.distance import pdist, squareform\n",
    "from math import radians, cos, sin, asin, sqrt\n",
    "from sklearn.metrics import silhouette_score"
   ]
  },
  {
   "cell_type": "markdown",
   "metadata": {},
   "source": [
    "### Drop Null Rows"
   ]
  },
  {
   "cell_type": "code",
   "execution_count": 120,
   "metadata": {},
   "outputs": [
    {
     "name": "stdout",
     "output_type": "stream",
     "text": [
      "<class 'pandas.core.frame.DataFrame'>\n",
      "Int64Index: 148226 entries, 0 to 157125\n",
      "Data columns (total 11 columns):\n",
      " #   Column        Non-Null Count   Dtype \n",
      "---  ------        --------------   ----- \n",
      " 0   CircleName    148226 non-null  object\n",
      " 1   RegionName    148226 non-null  object\n",
      " 2   DivisionName  148226 non-null  object\n",
      " 3   OfficeName    148226 non-null  object\n",
      " 4   Pincode       148226 non-null  int64 \n",
      " 5   OfficeType    148226 non-null  object\n",
      " 6   Delivery      148226 non-null  object\n",
      " 7   District      148226 non-null  object\n",
      " 8   StateName     148226 non-null  object\n",
      " 9   Latitude      148226 non-null  object\n",
      " 10  Longitude     148226 non-null  object\n",
      "dtypes: int64(1), object(10)\n",
      "memory usage: 13.6+ MB\n"
     ]
    },
    {
     "data": {
      "text/html": [
       "<div>\n",
       "<style scoped>\n",
       "    .dataframe tbody tr th:only-of-type {\n",
       "        vertical-align: middle;\n",
       "    }\n",
       "\n",
       "    .dataframe tbody tr th {\n",
       "        vertical-align: top;\n",
       "    }\n",
       "\n",
       "    .dataframe thead th {\n",
       "        text-align: right;\n",
       "    }\n",
       "</style>\n",
       "<table border=\"1\" class=\"dataframe\">\n",
       "  <thead>\n",
       "    <tr style=\"text-align: right;\">\n",
       "      <th></th>\n",
       "      <th>CircleName</th>\n",
       "      <th>RegionName</th>\n",
       "      <th>DivisionName</th>\n",
       "      <th>OfficeName</th>\n",
       "      <th>Pincode</th>\n",
       "      <th>OfficeType</th>\n",
       "      <th>Delivery</th>\n",
       "      <th>District</th>\n",
       "      <th>StateName</th>\n",
       "      <th>Latitude</th>\n",
       "      <th>Longitude</th>\n",
       "    </tr>\n",
       "  </thead>\n",
       "  <tbody>\n",
       "    <tr>\n",
       "      <th>0</th>\n",
       "      <td>Andhra Pradesh Circle</td>\n",
       "      <td>Kurnool Region</td>\n",
       "      <td>Hindupur Division</td>\n",
       "      <td>Peddakotla B.O</td>\n",
       "      <td>515631</td>\n",
       "      <td>BO</td>\n",
       "      <td>Delivery</td>\n",
       "      <td>ANANTAPUR</td>\n",
       "      <td>ANDHRA PRADESH</td>\n",
       "      <td>14.5689</td>\n",
       "      <td>77.8562</td>\n",
       "    </tr>\n",
       "    <tr>\n",
       "      <th>1</th>\n",
       "      <td>Andhra Pradesh Circle</td>\n",
       "      <td>Kurnool Region</td>\n",
       "      <td>Hindupur Division</td>\n",
       "      <td>Pinnadhari B.O</td>\n",
       "      <td>515631</td>\n",
       "      <td>BO</td>\n",
       "      <td>Delivery</td>\n",
       "      <td>ANANTAPUR</td>\n",
       "      <td>ANDHRA PRADESH</td>\n",
       "      <td>14.5281</td>\n",
       "      <td>77.857</td>\n",
       "    </tr>\n",
       "    <tr>\n",
       "      <th>2</th>\n",
       "      <td>Andhra Pradesh Circle</td>\n",
       "      <td>Kurnool Region</td>\n",
       "      <td>Hindupur Division</td>\n",
       "      <td>Yerraguntapalle B.O</td>\n",
       "      <td>515631</td>\n",
       "      <td>BO</td>\n",
       "      <td>Delivery</td>\n",
       "      <td>ANANTAPUR</td>\n",
       "      <td>ANDHRA PRADESH</td>\n",
       "      <td>14.5611</td>\n",
       "      <td>77.8572</td>\n",
       "    </tr>\n",
       "    <tr>\n",
       "      <th>3</th>\n",
       "      <td>Andhra Pradesh Circle</td>\n",
       "      <td>Kurnool Region</td>\n",
       "      <td>Hindupur Division</td>\n",
       "      <td>Obulareddipalli B.O</td>\n",
       "      <td>515581</td>\n",
       "      <td>BO</td>\n",
       "      <td>Delivery</td>\n",
       "      <td>ANANTAPUR</td>\n",
       "      <td>ANDHRA PRADESH</td>\n",
       "      <td>14.2488</td>\n",
       "      <td>78.2588</td>\n",
       "    </tr>\n",
       "    <tr>\n",
       "      <th>4</th>\n",
       "      <td>Andhra Pradesh Circle</td>\n",
       "      <td>Kurnool Region</td>\n",
       "      <td>Hindupur Division</td>\n",
       "      <td>Odulapalli B.O</td>\n",
       "      <td>515581</td>\n",
       "      <td>BO</td>\n",
       "      <td>Delivery</td>\n",
       "      <td>ANANTAPUR</td>\n",
       "      <td>ANDHRA PRADESH</td>\n",
       "      <td>14.2455</td>\n",
       "      <td>78.2477</td>\n",
       "    </tr>\n",
       "  </tbody>\n",
       "</table>\n",
       "</div>"
      ],
      "text/plain": [
       "              CircleName      RegionName       DivisionName  \\\n",
       "0  Andhra Pradesh Circle  Kurnool Region  Hindupur Division   \n",
       "1  Andhra Pradesh Circle  Kurnool Region  Hindupur Division   \n",
       "2  Andhra Pradesh Circle  Kurnool Region  Hindupur Division   \n",
       "3  Andhra Pradesh Circle  Kurnool Region  Hindupur Division   \n",
       "4  Andhra Pradesh Circle  Kurnool Region  Hindupur Division   \n",
       "\n",
       "            OfficeName  Pincode OfficeType  Delivery   District  \\\n",
       "0       Peddakotla B.O   515631         BO  Delivery  ANANTAPUR   \n",
       "1       Pinnadhari B.O   515631         BO  Delivery  ANANTAPUR   \n",
       "2  Yerraguntapalle B.O   515631         BO  Delivery  ANANTAPUR   \n",
       "3  Obulareddipalli B.O   515581         BO  Delivery  ANANTAPUR   \n",
       "4       Odulapalli B.O   515581         BO  Delivery  ANANTAPUR   \n",
       "\n",
       "        StateName Latitude Longitude  \n",
       "0  ANDHRA PRADESH  14.5689   77.8562  \n",
       "1  ANDHRA PRADESH  14.5281    77.857  \n",
       "2  ANDHRA PRADESH  14.5611   77.8572  \n",
       "3  ANDHRA PRADESH  14.2488   78.2588  \n",
       "4  ANDHRA PRADESH  14.2455   78.2477  "
      ]
     },
     "execution_count": 120,
     "metadata": {},
     "output_type": "execute_result"
    }
   ],
   "source": [
    "df.dropna(inplace=True)\n",
    "df.info()\n",
    "df.head()\n"
   ]
  },
  {
   "cell_type": "markdown",
   "metadata": {},
   "source": [
    "### Transform Latitude and Longitude Codes into float type. This is doen by removing N, E, S, W notations after them and type casting as float. Also, Lat and Long values beyond +-90 are removed as per convention."
   ]
  },
  {
   "cell_type": "code",
   "execution_count": 121,
   "metadata": {},
   "outputs": [
    {
     "name": "stdout",
     "output_type": "stream",
     "text": [
      "<class 'pandas.core.frame.DataFrame'>\n",
      "Int64Index: 143335 entries, 0 to 157125\n",
      "Data columns (total 11 columns):\n",
      " #   Column        Non-Null Count   Dtype  \n",
      "---  ------        --------------   -----  \n",
      " 0   CircleName    143335 non-null  object \n",
      " 1   RegionName    143335 non-null  object \n",
      " 2   DivisionName  143335 non-null  object \n",
      " 3   OfficeName    143335 non-null  object \n",
      " 4   Pincode       143335 non-null  int64  \n",
      " 5   OfficeType    143335 non-null  object \n",
      " 6   Delivery      143335 non-null  object \n",
      " 7   District      143335 non-null  object \n",
      " 8   StateName     143335 non-null  object \n",
      " 9   Latitude      143335 non-null  float64\n",
      " 10  Longitude     143335 non-null  float64\n",
      "dtypes: float64(2), int64(1), object(8)\n",
      "memory usage: 13.1+ MB\n"
     ]
    },
    {
     "data": {
      "text/html": [
       "<div>\n",
       "<style scoped>\n",
       "    .dataframe tbody tr th:only-of-type {\n",
       "        vertical-align: middle;\n",
       "    }\n",
       "\n",
       "    .dataframe tbody tr th {\n",
       "        vertical-align: top;\n",
       "    }\n",
       "\n",
       "    .dataframe thead th {\n",
       "        text-align: right;\n",
       "    }\n",
       "</style>\n",
       "<table border=\"1\" class=\"dataframe\">\n",
       "  <thead>\n",
       "    <tr style=\"text-align: right;\">\n",
       "      <th></th>\n",
       "      <th>Pincode</th>\n",
       "      <th>Latitude</th>\n",
       "      <th>Longitude</th>\n",
       "    </tr>\n",
       "  </thead>\n",
       "  <tbody>\n",
       "    <tr>\n",
       "      <th>count</th>\n",
       "      <td>143335.000000</td>\n",
       "      <td>143335.000000</td>\n",
       "      <td>143335.000000</td>\n",
       "    </tr>\n",
       "    <tr>\n",
       "      <th>mean</th>\n",
       "      <td>489938.341556</td>\n",
       "      <td>22.617774</td>\n",
       "      <td>77.595212</td>\n",
       "    </tr>\n",
       "    <tr>\n",
       "      <th>std</th>\n",
       "      <td>205320.824559</td>\n",
       "      <td>10.094072</td>\n",
       "      <td>10.935438</td>\n",
       "    </tr>\n",
       "    <tr>\n",
       "      <th>min</th>\n",
       "      <td>110001.000000</td>\n",
       "      <td>0.000000</td>\n",
       "      <td>0.000000</td>\n",
       "    </tr>\n",
       "    <tr>\n",
       "      <th>25%</th>\n",
       "      <td>322025.000000</td>\n",
       "      <td>17.278291</td>\n",
       "      <td>75.653651</td>\n",
       "    </tr>\n",
       "    <tr>\n",
       "      <th>50%</th>\n",
       "      <td>493196.000000</td>\n",
       "      <td>22.512428</td>\n",
       "      <td>78.321936</td>\n",
       "    </tr>\n",
       "    <tr>\n",
       "      <th>75%</th>\n",
       "      <td>639114.000000</td>\n",
       "      <td>26.330000</td>\n",
       "      <td>82.326198</td>\n",
       "    </tr>\n",
       "    <tr>\n",
       "      <th>max</th>\n",
       "      <td>999999.000000</td>\n",
       "      <td>89.265000</td>\n",
       "      <td>89.997669</td>\n",
       "    </tr>\n",
       "  </tbody>\n",
       "</table>\n",
       "</div>"
      ],
      "text/plain": [
       "             Pincode       Latitude      Longitude\n",
       "count  143335.000000  143335.000000  143335.000000\n",
       "mean   489938.341556      22.617774      77.595212\n",
       "std    205320.824559      10.094072      10.935438\n",
       "min    110001.000000       0.000000       0.000000\n",
       "25%    322025.000000      17.278291      75.653651\n",
       "50%    493196.000000      22.512428      78.321936\n",
       "75%    639114.000000      26.330000      82.326198\n",
       "max    999999.000000      89.265000      89.997669"
      ]
     },
     "execution_count": 121,
     "metadata": {},
     "output_type": "execute_result"
    }
   ],
   "source": [
    "# Regular expression pattern to match latitude & Longitude values\n",
    "pattern = r\"-?\\d+(?:\\.\\d+)?(?: [NSEW])?\"\n",
    "\n",
    "df1 = df.copy()\n",
    "\n",
    "# Define a function to extract the latitude & Longitude values\n",
    "def extract_numerical(x):\n",
    "    try:\n",
    "        match = re.findall(pattern, x)[0]\n",
    "        return float(match.split()[0])\n",
    "    except:\n",
    "        print(x)\n",
    "\n",
    "# Apply the function to the Latitude column\n",
    "df1['Latitude'] = df1['Latitude'].astype(str).apply(extract_numerical)\n",
    "df1['Longitude'] = df1['Longitude'].astype(str).apply(extract_numerical)\n",
    "\n",
    "df1 = df1[(df1['Latitude'] >= -90) & (df1['Latitude'] <= 90)]\n",
    "df1 = df1[(df1['Longitude'] >= -90) & (df1['Longitude'] <= 90)]\n",
    "\n",
    "# Print the updated DataFrame\n",
    "df1.info()\n",
    "df1.describe()\n",
    "\n",
    "\n"
   ]
  },
  {
   "cell_type": "markdown",
   "metadata": {},
   "source": [
    "### Plotting Hist plot for latitude & Longitude values for Outlier analysis"
   ]
  },
  {
   "cell_type": "code",
   "execution_count": 122,
   "metadata": {},
   "outputs": [
    {
     "data": {
      "image/png": "[encoded data removed]",
      "text/plain": [
       "<Figure size 432x288 with 1 Axes>"
      ]
     },
     "metadata": {
      "needs_background": "light"
     },
     "output_type": "display_data"
    }
   ],
   "source": [
    "plt.hist(df1['Latitude'], bins=10)\n",
    "plt.xlabel('column_name')\n",
    "plt.ylabel('Frequency')\n",
    "plt.show()"
   ]
  },
  {
   "cell_type": "markdown",
   "metadata": {},
   "source": [
    "### Removing outliers by applying (mean +- 2* std.deviation) as limits"
   ]
  },
  {
   "cell_type": "code",
   "execution_count": 123,
   "metadata": {},
   "outputs": [],
   "source": [
    "summary_stats = df1['Latitude'].describe()\n",
    "mean_value = summary_stats['mean']\n",
    "std_dev_value = summary_stats['std']\n",
    "min_value = summary_stats['min']\n",
    "max_value = summary_stats['max']\n",
    "\n",
    "lower_limit = mean_value - 2 * std_dev_value\n",
    "upper_limit = mean_value + 2 * std_dev_value\n",
    "\n",
    "df1 = df1.drop(df1[(df1['Latitude'] < lower_limit) | (df1['Latitude'] > upper_limit)].index)"
   ]
  },
  {
   "cell_type": "code",
   "execution_count": 124,
   "metadata": {},
   "outputs": [
    {
     "data": {
      "image/png": "[encoded data removed]",
      "text/plain": [
       "<Figure size 432x288 with 1 Axes>"
      ]
     },
     "metadata": {
      "needs_background": "light"
     },
     "output_type": "display_data"
    }
   ],
   "source": [
    "plt.hist(df1['Longitude'], bins=10)\n",
    "plt.xlabel('column_name')\n",
    "plt.ylabel('Frequency')\n",
    "plt.show()"
   ]
  },
  {
   "cell_type": "code",
   "execution_count": 125,
   "metadata": {},
   "outputs": [],
   "source": [
    "summary_stats = df1['Longitude'].describe()\n",
    "mean_value = summary_stats['mean']\n",
    "std_dev_value = summary_stats['std']\n",
    "min_value = summary_stats['min']\n",
    "max_value = summary_stats['max']\n",
    "\n",
    "lower_limit = mean_value - 2 * std_dev_value\n",
    "upper_limit = mean_value + 2 * std_dev_value\n",
    "\n",
    "df1 = df1.drop(df1[(df1['Longitude'] < lower_limit) | (df1['Longitude'] > upper_limit)].index)"
   ]
  },
  {
   "cell_type": "markdown",
   "metadata": {},
   "source": [
    "### Creating a separate Data frame for selected States only"
   ]
  },
  {
   "cell_type": "code",
   "execution_count": 126,
   "metadata": {},
   "outputs": [
    {
     "name": "stdout",
     "output_type": "stream",
     "text": [
      "<class 'pandas.core.frame.DataFrame'>\n",
      "Int64Index: 25688 entries, 138 to 157125\n",
      "Data columns (total 11 columns):\n",
      " #   Column        Non-Null Count  Dtype  \n",
      "---  ------        --------------  -----  \n",
      " 0   CircleName    25688 non-null  object \n",
      " 1   RegionName    25688 non-null  object \n",
      " 2   DivisionName  25688 non-null  object \n",
      " 3   OfficeName    25688 non-null  object \n",
      " 4   Pincode       25688 non-null  int64  \n",
      " 5   OfficeType    25688 non-null  object \n",
      " 6   Delivery      25688 non-null  object \n",
      " 7   District      25688 non-null  object \n",
      " 8   StateName     25688 non-null  object \n",
      " 9   Latitude      25688 non-null  float64\n",
      " 10  Longitude     25688 non-null  float64\n",
      "dtypes: float64(2), int64(1), object(8)\n",
      "memory usage: 2.4+ MB\n"
     ]
    },
    {
     "data": {
      "text/html": [
       "<div>\n",
       "<style scoped>\n",
       "    .dataframe tbody tr th:only-of-type {\n",
       "        vertical-align: middle;\n",
       "    }\n",
       "\n",
       "    .dataframe tbody tr th {\n",
       "        vertical-align: top;\n",
       "    }\n",
       "\n",
       "    .dataframe thead th {\n",
       "        text-align: right;\n",
       "    }\n",
       "</style>\n",
       "<table border=\"1\" class=\"dataframe\">\n",
       "  <thead>\n",
       "    <tr style=\"text-align: right;\">\n",
       "      <th></th>\n",
       "      <th>Pincode</th>\n",
       "      <th>Latitude</th>\n",
       "      <th>Longitude</th>\n",
       "    </tr>\n",
       "  </thead>\n",
       "  <tbody>\n",
       "    <tr>\n",
       "      <th>count</th>\n",
       "      <td>25688.000000</td>\n",
       "      <td>25688.000000</td>\n",
       "      <td>25688.000000</td>\n",
       "    </tr>\n",
       "    <tr>\n",
       "      <th>mean</th>\n",
       "      <td>644057.366708</td>\n",
       "      <td>16.305025</td>\n",
       "      <td>79.480273</td>\n",
       "    </tr>\n",
       "    <tr>\n",
       "      <th>std</th>\n",
       "      <td>95899.024634</td>\n",
       "      <td>3.928627</td>\n",
       "      <td>4.093043</td>\n",
       "    </tr>\n",
       "    <tr>\n",
       "      <th>min</th>\n",
       "      <td>500001.000000</td>\n",
       "      <td>7.104306</td>\n",
       "      <td>67.569800</td>\n",
       "    </tr>\n",
       "    <tr>\n",
       "      <th>25%</th>\n",
       "      <td>573134.000000</td>\n",
       "      <td>13.070000</td>\n",
       "      <td>76.180000</td>\n",
       "    </tr>\n",
       "    <tr>\n",
       "      <th>50%</th>\n",
       "      <td>670631.000000</td>\n",
       "      <td>16.754031</td>\n",
       "      <td>77.647247</td>\n",
       "    </tr>\n",
       "    <tr>\n",
       "      <th>75%</th>\n",
       "      <td>755011.000000</td>\n",
       "      <td>19.912351</td>\n",
       "      <td>83.833322</td>\n",
       "    </tr>\n",
       "    <tr>\n",
       "      <th>max</th>\n",
       "      <td>999999.000000</td>\n",
       "      <td>40.741211</td>\n",
       "      <td>88.528734</td>\n",
       "    </tr>\n",
       "  </tbody>\n",
       "</table>\n",
       "</div>"
      ],
      "text/plain": [
       "             Pincode      Latitude     Longitude\n",
       "count   25688.000000  25688.000000  25688.000000\n",
       "mean   644057.366708     16.305025     79.480273\n",
       "std     95899.024634      3.928627      4.093043\n",
       "min    500001.000000      7.104306     67.569800\n",
       "25%    573134.000000     13.070000     76.180000\n",
       "50%    670631.000000     16.754031     77.647247\n",
       "75%    755011.000000     19.912351     83.833322\n",
       "max    999999.000000     40.741211     88.528734"
      ]
     },
     "execution_count": 126,
     "metadata": {},
     "output_type": "execute_result"
    }
   ],
   "source": [
    "state = ['TELANGANA', 'MAHARASTRA','KARNATAKA', 'ODISHA', 'KERALA']\n",
    "#state = ['ANDHRA PRADESH']\n",
    "df2 = df1[df1['StateName'].isin(state)]\n",
    "df2.info()\n",
    "df2.describe()"
   ]
  },
  {
   "cell_type": "markdown",
   "metadata": {},
   "source": [
    "### Deviation in the data at the state level is observed. Even though outliers have been removed from the total dataset, state level data still has many outliers. So, performing outlier removal again at the state-level "
   ]
  },
  {
   "cell_type": "code",
   "execution_count": 127,
   "metadata": {},
   "outputs": [
    {
     "data": {
      "image/png": "[encoded data removed]",
      "text/plain": [
       "<Figure size 432x288 with 1 Axes>"
      ]
     },
     "metadata": {
      "needs_background": "light"
     },
     "output_type": "display_data"
    }
   ],
   "source": [
    "plt.hist(df2['Latitude'], bins=10)\n",
    "plt.xlabel('column_name')\n",
    "plt.ylabel('Frequency')\n",
    "plt.show()"
   ]
  },
  {
   "cell_type": "code",
   "execution_count": 128,
   "metadata": {},
   "outputs": [
    {
     "data": {
      "image/png": "[encoded data removed]",
      "text/plain": [
       "<Figure size 432x288 with 1 Axes>"
      ]
     },
     "metadata": {
      "needs_background": "light"
     },
     "output_type": "display_data"
    }
   ],
   "source": [
    "plt.hist(df2['Longitude'], bins=10)\n",
    "plt.xlabel('column_name')\n",
    "plt.ylabel('Frequency')\n",
    "plt.show()"
   ]
  },
  {
   "cell_type": "code",
   "execution_count": 129,
   "metadata": {},
   "outputs": [],
   "source": [
    "def filter_outliers(df):\n",
    "    # filter outliers for latitude\n",
    "    lat_summary = df['Latitude'].describe()\n",
    "    lat_mean = lat_summary['mean']\n",
    "    lat_std_dev = lat_summary['std']\n",
    "    lat_lower_limit = lat_mean - 2 * lat_std_dev\n",
    "    lat_upper_limit = lat_mean + 2 * lat_std_dev\n",
    "    df = df.drop(df[(df['Latitude'] < lat_lower_limit) | (df['Latitude'] > lat_upper_limit)].index)\n",
    "    \n",
    "    # filter outliers for longitude\n",
    "    lon_summary = df['Longitude'].describe()\n",
    "    lon_mean = lon_summary['mean']\n",
    "    lon_std_dev = lon_summary['std']\n",
    "    lon_lower_limit = lon_mean - 2 * lon_std_dev\n",
    "    lon_upper_limit = lon_mean + 2 * lon_std_dev\n",
    "    df = df.drop(df[(df['Longitude'] < lon_lower_limit) | (df['Longitude'] > lon_upper_limit)].index)\n",
    "    \n",
    "    return df\n",
    "\n",
    "\n",
    "\n",
    "# Group by StateName and apply the filter_outliers function to each group\n",
    "filtered_dfs = [group_df.groupby('StateName').apply(filter_outliers) for _, group_df in df2.groupby('StateName')]\n",
    "\n",
    "# Concatenate the filtered dataframes back into one dataframe\n",
    "filtered_df = pd.concat(filtered_dfs)\n"
   ]
  },
  {
   "cell_type": "markdown",
   "metadata": {},
   "source": [
    "### Performing K-means Clustering on the state-level data and selecting optimal number of clusters using Elbow method"
   ]
  },
  {
   "cell_type": "code",
   "execution_count": 130,
   "metadata": {},
   "outputs": [],
   "source": [
    "\n",
    "# # Standardize the latitude and longitude data\n",
    "# scaler = StandardScaler()\n",
    "# X = scaler.fit_transform(filtered_df.iloc[:, [-1, -2]].values)\n",
    "\n",
    "# # Use the elbow method to determine the optimal number of clusters\n",
    "# wcss = []\n",
    "# for i in range(1, 11):\n",
    "#     kmeans = KMeans(n_clusters=i, init='k-means++', random_state=42)\n",
    "#     kmeans.fit(X)\n",
    "#     wcss.append(kmeans.inertia_)\n",
    "# plt.plot(range(1, 11), wcss)\n",
    "# plt.title('Elbow Method')\n",
    "# plt.xlabel('Number of clusters')\n",
    "# plt.ylabel('WCSS')\n",
    "# plt.show()\n",
    "\n"
   ]
  },
  {
   "cell_type": "code",
   "execution_count": 131,
   "metadata": {},
   "outputs": [
    {
     "data": {
      "image/png": "[encoded data removed]",
      "text/plain": [
       "<Figure size 432x288 with 2 Axes>"
      ]
     },
     "metadata": {
      "needs_background": "light"
     },
     "output_type": "display_data"
    }
   ],
   "source": [
    "# Standardize the latitude and longitude data\n",
    "scaler = StandardScaler()\n",
    "X = scaler.fit_transform(filtered_df.iloc[:, [-1, -2]].values)\n",
    "\n",
    "# Use the elbow method to determine the optimal number of clusters\n",
    "wcss = []\n",
    "fit_times = []\n",
    "for i in range(1, 11):\n",
    "    kmeans = KMeans(n_clusters=i, init='k-means++', random_state=42)\n",
    "    start_time = time.time()\n",
    "    kmeans.fit(X)\n",
    "    end_time = time.time()\n",
    "    fit_times.append(end_time - start_time)\n",
    "    wcss.append(kmeans.inertia_)\n",
    "    \n",
    "fig, ax1 = plt.subplots()\n",
    "\n",
    "# Plot the elbow curve\n",
    "ax1.plot(range(1, 11), wcss, label='WCSS')\n",
    "ax1.set_xlabel('Number of clusters')\n",
    "ax1.set_ylabel('WCSS')\n",
    "\n",
    "# Plot the fit times\n",
    "ax2 = ax1.twinx()\n",
    "ax2.plot(range(1, 11), fit_times, color='red', label='Fit Time')\n",
    "ax2.set_ylabel('Fit Time (s)')\n",
    "\n",
    "# Add legend and title\n",
    "ax1.legend(loc='best')\n",
    "ax2.legend(loc='best')\n",
    "plt.title('Elbow Method with Fit Time')\n",
    "plt.show()\n"
   ]
  },
  {
   "cell_type": "code",
   "execution_count": 132,
   "metadata": {},
   "outputs": [
    {
     "data": {
      "image/png": "[encoded data removed]",
      "text/plain": [
       "<Figure size 432x288 with 1 Axes>"
      ]
     },
     "metadata": {
      "needs_background": "light"
     },
     "output_type": "display_data"
    }
   ],
   "source": [
    "# Choose the optimal number of clusters based on the elbow plot\n",
    "# In this case, the optimal number of clusters is 4\n",
    "\n",
    "# Fit the K-Means algorithm to the data with the chosen number of clusters\n",
    "n=6\n",
    "kmeans = KMeans(n_clusters=n, init='k-means++', random_state=42)\n",
    "y_kmeans = kmeans.fit_predict(X)\n",
    "filtered_df['Cluster'] = kmeans.labels_\n",
    "\n",
    "# Visualize the results\n",
    "colors = ['red', 'blue', 'green', 'cyan', 'magenta', 'yellow', 'black', 'gray']\n",
    "for i in range(n):\n",
    "    plt.scatter(X[y_kmeans == i, 0], X[y_kmeans == i, 1], s=100, c=colors[i], label='Cluster {}'.format(i+1))\n",
    "plt.scatter(kmeans.cluster_centers_[:, 0], kmeans.cluster_centers_[:, 1], s=300, c='yellow', label='Centroids')\n",
    "plt.title('Clusters of Regions')\n",
    "plt.xlabel('Latitude')\n",
    "plt.ylabel('Longitude')\n",
    "plt.legend()\n",
    "plt.show()"
   ]
  },
  {
   "cell_type": "markdown",
   "metadata": {},
   "source": [
    "### Creating a dictionary for state - factory sets"
   ]
  },
  {
   "cell_type": "code",
   "execution_count": 133,
   "metadata": {},
   "outputs": [
    {
     "name": "stdout",
     "output_type": "stream",
     "text": [
      "{'ANDHRA PRADESH': 'GUNTUR', 'ARUNACHAL PRADESH': 'ITANAGAR', 'ASSAM': 'GUWAHATI', 'BIHAR': 'PATNA', 'CHHATTISGARH': 'RAIPUR', 'GOA': 'PANAJI', 'GUJARAT': 'AHMEDABAD', 'HARYANA': 'GURUGRAM', 'HIMACHAL PRADESH': 'SHIMLA', 'JHARKHAND': 'RANCHI', 'KARNATAKA': 'BENGALURU', 'KERALA': 'KOCHI', 'MADHYA PRADESH': 'INDORE', 'MAHARASHTRA': 'MUMBAI', 'MANIPUR': 'IMPHAL', 'MEGHALAYA': 'SHILLONG', 'MIZORAM': 'AIZAWL', 'NAGALAND': 'KOHIMA', 'ODISHA': 'BHUBANESWAR', 'PUNJAB': 'LUDHIANA', 'RAJASTHAN': 'JAIPUR', 'SIKKIM': 'GANGTOK', 'TAMIL NADU': 'CHENNAI', 'TELANGANA': 'HYDERABAD', 'TRIPURA': 'AGARTALA', 'UTTAR PRADESH': 'LUCKNOW', 'UTTARAKHAND': 'DEHRADUN', 'WEST BENGAL': 'KOLKATA'}\n"
     ]
    }
   ],
   "source": [
    "factory_dict = {\n",
    "    'Andhra Pradesh': 'Guntur',\n",
    "    'Arunachal Pradesh': 'Itanagar',\n",
    "    'Assam': 'Guwahati',\n",
    "    'Bihar': 'Patna',\n",
    "    'Chhattisgarh': 'Raipur',\n",
    "    'Goa': 'Panaji',\n",
    "    'Gujarat': 'Ahmedabad',\n",
    "    'Haryana': 'Gurugram',\n",
    "    'Himachal Pradesh': 'Shimla',\n",
    "    'Jharkhand': 'Ranchi',\n",
    "    'Karnataka': 'Bengaluru',\n",
    "    'Kerala': 'Kochi',\n",
    "    'Madhya Pradesh': 'Indore',\n",
    "    'Maharashtra': 'Mumbai',\n",
    "    'Manipur': 'Imphal',\n",
    "    'Meghalaya': 'Shillong',\n",
    "    'Mizoram': 'Aizawl',\n",
    "    'Nagaland': 'Kohima',\n",
    "    'Odisha': 'Bhubaneswar',\n",
    "    'Punjab': 'Ludhiana',\n",
    "    'Rajasthan': 'Jaipur',\n",
    "    'Sikkim': 'Gangtok',\n",
    "    'Tamil Nadu': 'Chennai',\n",
    "    'Telangana': 'Hyderabad',\n",
    "    'Tripura': 'Agartala',\n",
    "    'Uttar Pradesh': 'Lucknow',\n",
    "    'Uttarakhand': 'Dehradun',\n",
    "    'West Bengal': 'Kolkata'\n",
    "}\n",
    "\n",
    "new_dict = {}\n",
    "\n",
    "for key, value in factory_dict.items():\n",
    "    new_key = key.upper()\n",
    "    new_value = value.upper()\n",
    "    new_dict[new_key] = new_value\n",
    "\n",
    "print(new_dict)"
   ]
  },
  {
   "cell_type": "markdown",
   "metadata": {},
   "source": [
    "### Selecting the pincode closest to the centroid of all pincodes in the factory location, for use as factory pincode"
   ]
  },
  {
   "cell_type": "code",
   "execution_count": 134,
   "metadata": {},
   "outputs": [
    {
     "name": "stdout",
     "output_type": "stream",
     "text": [
      "       State   Latitude  Longitude\n",
      "0  TELANGANA  17.505333  78.518556\n",
      "0  KARNATAKA  13.016833  77.583278\n"
     ]
    }
   ],
   "source": [
    "all_factory_locations = pd.DataFrame(columns=['State', 'Latitude', 'Longitude'])\n",
    "for state in state:\n",
    "    try:\n",
    "        districts = filtered_df[filtered_df['District'].str.contains(new_dict[state])]\n",
    "    \n",
    "        # Define a function to find the nearest location to the centroid in a district as factory location\n",
    "        def find_factory_location(locations):\n",
    "            # Calculate the centroid of all the locations\n",
    "            centroid = np.mean(locations, axis=0)\n",
    "\n",
    "            # Calculate pairwise distances between each location and the centroid\n",
    "            distances = squareform(pdist(locations))\n",
    "\n",
    "            # Find the index of the location with the smallest distance to the centroid\n",
    "            nearest_index = np.argmin(np.sum(np.square(locations - centroid), axis=1))\n",
    "\n",
    "            # Assign the location with the smallest distance to the centroid as the factory location\n",
    "            factory_location = locations[nearest_index]\n",
    "\n",
    "            return factory_location\n",
    "\n",
    "        locations = districts[['Latitude', 'Longitude']].values\n",
    "\n",
    "        factory= find_factory_location(locations)\n",
    "        factory_location = pd.DataFrame({'State': [state], 'Latitude': [factory[0]], 'Longitude': [factory[1]]})\n",
    "        all_factory_locations = all_factory_locations.append(factory_location)\n",
    "    \n",
    "    except:\n",
    "        continue\n",
    "\n",
    "print(all_factory_locations)"
   ]
  },
  {
   "cell_type": "markdown",
   "metadata": {},
   "source": [
    "### Solving TSP using nearest neighbor Algorithm to each cluster"
   ]
  },
  {
   "cell_type": "code",
   "execution_count": 135,
   "metadata": {},
   "outputs": [
    {
     "name": "stdout",
     "output_type": "stream",
     "text": [
      "Total distance for Cluster 0: 13814.66 km\n",
      "Total distance for Cluster 1: 18347.21 km\n",
      "Total distance for Cluster 2: 15500.62 km\n",
      "Total distance for Cluster 3: 9205.19 km\n",
      "Total distance for Cluster 4: 13447.50 km\n",
      "Total distance for Cluster 5: 17625.34 km\n",
      "Total combined distance of all clusters: 87940.52522810554\n"
     ]
    },
    {
     "data": {
      "image/png": "[encoded data removed]",
      "text/plain": [
       "<Figure size 432x288 with 1 Axes>"
      ]
     },
     "metadata": {
      "needs_background": "light"
     },
     "output_type": "display_data"
    }
   ],
   "source": [
    "from scipy.spatial.distance import pdist, squareform\n",
    "from math import radians, cos, sin, asin, sqrt\n",
    "\n",
    "# Define a function to compute the nearest neighbor tour\n",
    "def nearest_neighbor(coords):\n",
    "    # Calculate pairwise distances between points\n",
    "    distances = squareform(pdist(coords))\n",
    "    \n",
    "    # Find the centroid of the cluster\n",
    "    centroid = np.mean(coords, axis=0)\n",
    "    \n",
    "    # Find the pin code closest to the centroid\n",
    "    depot_index = np.argmin(np.sum(np.square(coords - centroid), axis=1))\n",
    "    \n",
    "    # Start at the depot\n",
    "    tour = [depot_index]\n",
    "    remaining = set(range(len(coords)))\n",
    "    remaining.remove(depot_index)\n",
    "    \n",
    "    # Find the nearest neighbor until all points are visited\n",
    "    while remaining:\n",
    "        last = tour[-1]\n",
    "        nearest = min(remaining, key=lambda x: distances[last, x])\n",
    "        tour.append(nearest)\n",
    "        remaining.remove(nearest)\n",
    "    \n",
    "    # Add the depot as the last point in the tour\n",
    "    tour.append(depot_index)\n",
    "    \n",
    "    # Calculate the tour length in kilometers using the Haversine formula\n",
    "    km_distances = []\n",
    "    for i in range(len(coords)):\n",
    "        lat1, lon1 = coords[tour[i]]\n",
    "        lat2, lon2 = coords[tour[i+1]]\n",
    "        # Convert decimal degrees to radians\n",
    "        lon1, lat1, lon2, lat2 = map(radians, [lon1, lat1, lon2, lat2])\n",
    "        # Haversine formula\n",
    "        dlon = lon2 - lon1\n",
    "        dlat = lat2 - lat1\n",
    "        a = sin(dlat/2)**2 + cos(lat1) * cos(lat2) * sin(dlon/2)**2\n",
    "        c = 2 * asin(sqrt(a))\n",
    "        # Radius of earth in kilometers\n",
    "        km = 6371\n",
    "        km_distances.append(c * km)\n",
    "    \n",
    "    # Return the tour and its length in kilometers\n",
    "    return tour, sum(km_distances), coords[depot_index]\n",
    "\n",
    "# Group the pin codes by cluster\n",
    "groups = filtered_df.groupby('Cluster')\n",
    "\n",
    "# Solve TSP for each cluster\n",
    "tours = {}\n",
    "depots = {}\n",
    "distance_clusters = 0\n",
    "for name, group in groups:\n",
    "    coords = group[['Latitude', 'Longitude']].values\n",
    "    tour, distance, depot = nearest_neighbor(coords)\n",
    "    tours[name] = {'coords': coords, 'tour': tour, 'distance': distance, 'depot': depot}\n",
    "    depots[name] = depot\n",
    "    tours[name]['distance'] = distance\n",
    "    print(f\"Total distance for Cluster {name}: {distance:.2f} km\")\n",
    "    distance_clusters = distance + distance_clusters\n",
    "    \n",
    "print('Total combined distance of all clusters:', distance_clusters)\n",
    "\n",
    "# Plot the tours for each cluster\n",
    "colors = ['r', 'g', 'b', 'c', 'm', 'y', 'k', 'orange', 'purple', 'brown', 'gray', 'navy', 'olive', 'teal']\n",
    "\n",
    "for name, tour in tours.items():\n",
    "    plt.plot(np.append(tour['depot'][1], tour['coords'][tour['tour'], 1]), \n",
    "             np.append(tour['depot'][0], tour['coords'][tour['tour'], 0]), \n",
    "             c=colors[name], label='Cluster {}'.format(name))\n",
    "\n",
    "plt.legend()\n",
    "plt.show()"
   ]
  },
  {
   "cell_type": "markdown",
   "metadata": {},
   "source": [
    "### Storing the depots locations in each cluster in a new dataframe"
   ]
  },
  {
   "cell_type": "code",
   "execution_count": null,
   "metadata": {},
   "outputs": [],
   "source": [
    "df_depots = pd.DataFrame.from_dict(depots, orient='index', columns=['Latitude', 'Longitude'])\n",
    "\n",
    "# merge df_depots with filtered_df on latitude and longitude\n",
    "merged_df = pd.merge(df_depots, filtered_df, on=['Latitude', 'Longitude'])\n",
    "\n",
    "# add the state column to df_depots\n",
    "df_depots['State'] = merged_df['StateName']\n",
    "\n",
    "df_depots"
   ]
  },
  {
   "cell_type": "markdown",
   "metadata": {},
   "source": [
    "### Solving TSP for factory and Depot locations"
   ]
  },
  {
   "cell_type": "code",
   "execution_count": null,
   "metadata": {
    "scrolled": true
   },
   "outputs": [],
   "source": [
    "import pandas as pd\n",
    "from scipy.spatial import distance_matrix\n",
    "from scipy.spatial.distance import cdist\n",
    "from scipy.spatial.distance import pdist\n",
    "import numpy as np\n",
    "import math\n",
    "\n",
    "# Create distance matrix between locations\n",
    "locations = np.vstack((all_factory_locations[[\"Latitude\", \"Longitude\"]].values, df_depots[[\"Latitude\", \"Longitude\"]].values))\n",
    "distance_matrix = distance_matrix(locations, locations)\n",
    "\n",
    "# Solve TSP using nearest neighbor algorithm\n",
    "unvisited = set(range(1, len(locations)))\n",
    "current_node = 0\n",
    "route = [0]\n",
    "\n",
    "while unvisited:\n",
    "    nearest_node = min(unvisited, key=lambda x: distance_matrix[current_node][x])\n",
    "    route.append(nearest_node)\n",
    "    unvisited.remove(nearest_node)\n",
    "    current_node = nearest_node\n",
    "\n",
    "route.append(0)\n",
    "\n",
    "def calculate_distance(locations):\n",
    "    R = 6371  # radius of the earth in km\n",
    "    distance = 0\n",
    "    for i in range(len(locations)-1):\n",
    "        lat1, lon1 = locations[i]\n",
    "        lat2, lon2 = locations[i+1]\n",
    "        dlat = math.radians(lat2 - lat1)\n",
    "        dlon = math.radians(lon2 - lon1)\n",
    "        a = math.sin(dlat/2) * math.sin(dlat/2) + \\\n",
    "            math.cos(math.radians(lat1)) * math.cos(math.radians(lat2)) * \\\n",
    "            math.sin(dlon/2) * math.sin(dlon/2)\n",
    "        c = 2 * math.atan2(math.sqrt(a), math.sqrt(1-a))\n",
    "        distance += R * c\n",
    "    return distance\n",
    "\n",
    "route_locations = [locations[i] for i in route]\n",
    "distance_factory = calculate_distance(route_locations)\n",
    "print(f\"The total distance of the route is {distance_factory:.2f} km.\")\n",
    "\n",
    "# # Print solution\n",
    "# print(\"Optimal route:\")\n",
    "# for i in route:\n",
    "#     print(locations[i])\n",
    "\n",
    "    \n",
    "# Plot solution\n",
    "fig, ax = plt.subplots()\n",
    "ax.plot(locations[route][:, 1], locations[route][:, 0], 'o-', markersize=8, linewidth=2)\n",
    "# ax.plot(locations[0, 1], locations[0, 0], markersize=8)\n",
    "ax.set_xlabel(\"Longitude\")\n",
    "ax.set_ylabel(\"Latitude\")\n",
    "ax.set_title(\"Optimal route\")\n",
    "plt.show()"
   ]
  },
  {
   "cell_type": "markdown",
   "metadata": {},
   "source": [
    "### Distance of whole tour at cluster level + Depot-factory level "
   ]
  },
  {
   "cell_type": "code",
   "execution_count": null,
   "metadata": {},
   "outputs": [],
   "source": [
    "Total_distance = distance_clusters + distance_factory\n",
    "print('Total distance in Km:',Total_distance)\n",
    "print('No. of Clusters:', n)"
   ]
  },
  {
   "cell_type": "code",
   "execution_count": null,
   "metadata": {},
   "outputs": [],
   "source": [
    "end_time = time.time()\n",
    "total_time = end_time - start_time\n",
    "print(f\"Total time taken: {total_time} seconds\")"
   ]
  }
 ],
 "metadata": {
  "kernelspec": {
   "display_name": "Python 3",
   "language": "python",
   "name": "python3"
  },
  "language_info": {
   "codemirror_mode": {
    "name": "ipython",
    "version": 3
   },
   "file_extension": ".py",
   "mimetype": "text/x-python",
   "name": "python",
   "nbconvert_exporter": "python",
   "pygments_lexer": "ipython3",
   "version": "3.7.6"
  }
 },
 "nbformat": 4,
 "nbformat_minor": 4
}
